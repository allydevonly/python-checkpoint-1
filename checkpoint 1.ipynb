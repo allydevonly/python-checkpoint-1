{
 "cells": [
  {
   "cell_type": "code",
   "execution_count": 4,
   "id": "a0529a5d-572a-4b75-bb8d-c49737c4f9ea",
   "metadata": {},
   "outputs": [
    {
     "name": "stdout",
     "output_type": "stream",
     "text": [
      "Welcome to Python world! Let's start coding\n"
     ]
    }
   ],
   "source": [
    "print (\"Welcome to Python world! Let's start coding\")"
   ]
  },
  {
   "cell_type": "code",
   "execution_count": null,
   "id": "b0f29d5c-3f7a-44b8-9e6c-3101214a81d9",
   "metadata": {},
   "outputs": [],
   "source": []
  }
 ],
 "metadata": {
  "kernelspec": {
   "display_name": "Python 3 (ipykernel)",
   "language": "python",
   "name": "python3"
  },
  "language_info": {
   "codemirror_mode": {
    "name": "ipython",
    "version": 3
   },
   "file_extension": ".py",
   "mimetype": "text/x-python",
   "name": "python",
   "nbconvert_exporter": "python",
   "pygments_lexer": "ipython3",
   "version": "3.12.4"
  }
 },
 "nbformat": 4,
 "nbformat_minor": 5
}
